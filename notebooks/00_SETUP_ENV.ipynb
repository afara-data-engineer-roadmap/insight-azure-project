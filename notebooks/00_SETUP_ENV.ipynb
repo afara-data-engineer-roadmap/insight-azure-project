{
 "cells": [
  {
   "cell_type": "code",
   "execution_count": 0,
   "metadata": {
    "application/vnd.databricks.v1+cell": {
     "cellMetadata": {
      "byteLimit": 2048000,
      "rowLimit": 10000
     },
     "inputWidgets": {},
     "nuid": "59800db1-66bc-4028-b183-c3c62d1f4e3f",
     "showTitle": false,
     "tableResultSettingsMap": {},
     "title": ""
    }
   },
   "outputs": [],
   "source": [
    "container_name = \"data\" \n",
    "storage_account_name = \"stsalesinsightcuxm0611\" \n",
    "\n",
    "# ON CHANGE JUSTE ICI : le nom du scope est celui créé à l'étape 1\n",
    "scope_name = \"dbricks-scope-projet\"\n",
    "secret_key_name = \"adls-access-key\"\n",
    "\n",
    "mount_point = f\"/mnt/{container_name}\"\n",
    "\n",
    "if not any(mount.mountPoint == mount_point for mount in dbutils.fs.mounts()):\n",
    "  \n",
    "  # La magie opère ici : on récupère le secret depuis le scope natif de Databricks\n",
    "  access_key = dbutils.secrets.get(scope=scope_name, key=secret_key_name)\n",
    "  \n",
    "  extra_configs = {f\"fs.azure.account.key.{storage_account_name}.dfs.core.windows.net\": access_key}\n",
    "  \n",
    "  dbutils.fs.mount(\n",
    "    source=f\"abfss://{container_name}@{storage_account_name}.dfs.core.windows.net/\",\n",
    "    mount_point=mount_point,\n",
    "    extra_configs=extra_configs\n",
    "  )\n",
    "  print(f\"Montage réussi sur {mount_point}\")\n",
    "else:\n",
    "  print(f\"Le point de montage {mount_point} existe déjà.\")"
   ]
  }
 ],
 "metadata": {
  "application/vnd.databricks.v1+notebook": {
   "computePreferences": null,
   "dashboards": [],
   "environmentMetadata": {
    "base_environment": "",
    "environment_version": "2"
   },
   "inputWidgetPreferences": null,
   "language": "python",
   "notebookMetadata": {
    "pythonIndentUnit": 4
   },
   "notebookName": "00_SETUP_ENV",
   "widgets": {}
  },
  "language_info": {
   "name": "python"
  }
 },
 "nbformat": 4,
 "nbformat_minor": 0
}

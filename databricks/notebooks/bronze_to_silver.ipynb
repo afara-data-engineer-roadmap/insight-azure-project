{
 "cells": [
  {
   "cell_type": "code",
   "execution_count": 0,
   "metadata": {
    "application/vnd.databricks.v1+cell": {
     "cellMetadata": {
      "byteLimit": 2048000,
      "rowLimit": 10000
     },
     "inputWidgets": {},
     "nuid": "20e3f60a-d922-419f-ba47-ca0f4a74105b",
     "showTitle": false,
     "tableResultSettingsMap": {},
     "title": ""
    }
   },
   "outputs": [],
   "source": [
    "# ======================================================================================\n",
    "# BIBLIOTHÈQUES\n",
    "# ======================================================================================\n",
    "import logging\n",
    "from pyspark.sql import DataFrame\n",
    "from pyspark.sql.functions import col, to_timestamp, trim, upper, current_timestamp, regexp_replace\n",
    "from pyspark.sql.types import IntegerType, DecimalType\n",
    "\n",
    "# ======================================================================================\n",
    "# 1. DÉCLARATION DES PARAMÈTRES (WIDGETS)\n",
    "# ======================================================================================\n",
    "dbutils.widgets.text(\"storage_account\", \"stsalesinsightcuxm0611\", \"Nom du compte de stockage\")\n",
    "dbutils.widgets.text(\"container\", \"data\", \"Nom du conteneur\")\n",
    "dbutils.widgets.text(\"source_folder\", \"bronze/sales_orders/\", \"Dossier source dans la couche Bronze\")\n",
    "dbutils.widgets.text(\"destination_folder\", \"silver/sales_orders/\", \"Dossier de destination dans la couche Silver\")\n",
    "dbutils.widgets.text(\"date_format\", \"M/d/yyyy H:mm\", \"Format de date de la source\")\n",
    "\n",
    "# ======================================================================================\n",
    "# 2. DÉFINITION DES FONCTIONS\n",
    "# ======================================================================================\n",
    "\n",
    "def read_data_from_bronze(source_path: str) -> DataFrame:\n",
    "    \"\"\"\n",
    "    Lit les données au format Parquet depuis le chemin source spécifié.\n",
    "    :param source_path: Chemin complet vers les données sources dans la couche Bronze.\n",
    "    :return: DataFrame Spark contenant les données brutes.\n",
    "    \"\"\"\n",
    "    logging.info(f\"Début de la lecture depuis : {source_path}\")\n",
    "    try:\n",
    "        df = spark.read.format(\"parquet\").load(source_path)\n",
    "        logging.info(f\"Lecture réussie.\")\n",
    "        return df\n",
    "    except Exception as e:\n",
    "        logging.error(f\"❌ ERREUR lors de la lecture des données depuis {source_path}\", exc_info=True)\n",
    "        raise e\n",
    "\n",
    "def transform_bronze_to_silver(bronze_df: DataFrame, date_f: str) -> DataFrame:\n",
    "    \"\"\"\n",
    "    Applique toutes les transformations métier pour nettoyer et standardiser les données.\n",
    "    :param bronze_df: DataFrame contenant les données brutes.\n",
    "    :param date_f: Format de date à utiliser pour la conversion.\n",
    "    :return: DataFrame transformé, prêt pour la couche Silver.\n",
    "    \"\"\"\n",
    "    logging.info(\"Début des transformations de données.\")\n",
    "    \n",
    "    # Caster les colonnes dans les types de données corrects\n",
    "    df_typed = bronze_df \\\n",
    "        .withColumn(\"QUANTITYORDERED\", col(\"QUANTITYORDERED\").cast(IntegerType())) \\\n",
    "        .withColumn(\"PRICEEACH\", regexp_replace(col(\"PRICEEACH\"), ',', '.').cast(DecimalType(10, 2))) \\\n",
    "        .withColumn(\"SALES\", col(\"SALES\").cast(DecimalType(12, 2))) \\\n",
    "        .withColumn(\"MSRP\", col(\"MSRP\").cast(DecimalType(10, 2))) \\\n",
    "        .withColumn(\"ORDERLINENUMBER\", col(\"ORDERLINENUMBER\").cast(IntegerType())) \\\n",
    "        .withColumn(\"ORDERDATE\", to_timestamp(col(\"ORDERDATE\"), date_f))\n",
    "\n",
    "    # Nettoyer et standardiser les colonnes texte\n",
    "    df_cleaned = df_typed \\\n",
    "        .withColumn(\"STATUS\", trim(upper(col(\"STATUS\")))) \\\n",
    "        .withColumn(\"PRODUCTLINE\", trim(upper(col(\"PRODUCTLINE\")))) \\\n",
    "        .withColumn(\"DEALSIZE\", trim(upper(col(\"DEALSIZE\")))) \\\n",
    "        .withColumn(\"COUNTRY\", trim(upper(col(\"COUNTRY\"))))\n",
    "\n",
    "    # Ajouter une colonne d'audit pour la traçabilité\n",
    "    df_silver = df_cleaned.withColumn(\"silver_processing_timestamp_utc\", current_timestamp())\n",
    "\n",
    "    logging.info(\"Transformations terminées avec succès.\")\n",
    "    return df_silver\n",
    "\n",
    "def write_data_to_silver(silver_df: DataFrame, destination_path: str) -> None:\n",
    "    \"\"\"\n",
    "    Écrit le DataFrame transformé dans la couche Silver au format Delta, en écrasant les données existantes.\n",
    "    :param silver_df: DataFrame transformé.\n",
    "    :param destination_path: Chemin complet du dossier de destination dans la couche Silver.\n",
    "    \"\"\"\n",
    "    logging.info(f\"Début de l'écriture vers : {destination_path}\")\n",
    "    try:\n",
    "        silver_df.write \\\n",
    "            .format(\"delta\") \\\n",
    "            .mode(\"overwrite\") \\\n",
    "            .option(\"overwriteSchema\", \"true\") \\\n",
    "            .save(destination_path)\n",
    "        logging.info(\"✅ Écriture dans la couche Silver terminée avec succès.\")\n",
    "    except Exception as e:\n",
    "        logging.error(f\"❌ ERREUR lors de l'écriture dans la couche Silver.\", exc_info=True)\n",
    "        raise e\n",
    "\n",
    "# ======================================================================================\n",
    "# 3. POINT D'ENTRÉE PRINCIPAL (MAIN)\n",
    "# ======================================================================================\n",
    "if __name__ == \"__main__\":\n",
    "    \n",
    "    # Configuration du logging\n",
    "    logging.basicConfig(level=logging.INFO, format='%(asctime)s - %(levelname)s - %(message)s')\n",
    "    \n",
    "    logging.info(\"===================================================\")\n",
    "    logging.info(\"DÉMARRAGE DU PIPELINE BRONZE-TO-SILVER\")\n",
    "    logging.info(\"===================================================\")\n",
    "\n",
    "    try:\n",
    "        # Récupération des paramètres et construction des chemins\n",
    "        storage_account_name = dbutils.widgets.get(\"storage_account\").strip()\n",
    "        container_name = dbutils.widgets.get(\"container\").strip()\n",
    "        source_folder = dbutils.widgets.get(\"source_folder\").strip()\n",
    "        dest_folder = dbutils.widgets.get(\"destination_folder\").strip()\n",
    "        date_format_str = dbutils.widgets.get(\"date_format\").strip()\n",
    "\n",
    "        source_path = f\"abfss://{container_name}@{storage_account_name}.dfs.core.windows.net/{source_folder}\"\n",
    "        destination_path = f\"abfss://{container_name}@{storage_account_name}.dfs.core.windows.net/{dest_folder}\"\n",
    "\n",
    "        scope_name = \"dbricks-scope-projet\"\n",
    "        secret_key_name = \"adls-access-key\"\n",
    "\n",
    "        # Configuration de l'authentification\n",
    "        access_key = dbutils.secrets.get(scope=scope_name, key=secret_key_name)\n",
    "        spark.conf.set(f\"fs.azure.account.key.{storage_account_name}.dfs.core.windows.net\", access_key)\n",
    "\n",
    "        # Orchestration des appels de fonctions\n",
    "        bronze_dataframe = read_data_from_bronze(source_path)\n",
    "        silver_dataframe = transform_bronze_to_silver(bronze_dataframe, date_format_str)\n",
    "        write_data_to_silver(silver_dataframe, destination_path)\n",
    "\n",
    "        logging.info(\"===================================================\")\n",
    "        logging.info(\"PIPELINE BRONZE-TO-SILVER TERMINÉ AVEC SUCCÈS\")\n",
    "        logging.info(\"===================================================\")\n",
    "\n",
    "    except Exception as e:\n",
    "        logging.error(\"Le pipeline a échoué dans le bloc principal.\", exc_info=True)\n",
    "        raise e"
   ]
  }
 ],
 "metadata": {
  "application/vnd.databricks.v1+notebook": {
   "computePreferences": null,
   "dashboards": [],
   "environmentMetadata": {
    "base_environment": "",
    "environment_version": "2"
   },
   "inputWidgetPreferences": null,
   "language": "python",
   "notebookMetadata": {
    "pythonIndentUnit": 4
   },
   "notebookName": "bronze_to_silver",
   "widgets": {
    "container": {
     "currentValue": "data",
     "nuid": "cd59fd76-d2b5-470c-93f6-dbe7a3ed3e9d",
     "typedWidgetInfo": {
      "autoCreated": false,
      "defaultValue": "data",
      "label": "Nom du conteneur",
      "name": "container",
      "options": {
       "widgetDisplayType": "Text",
       "validationRegex": null
      },
      "parameterDataType": "String"
     },
     "widgetInfo": {
      "widgetType": "text",
      "defaultValue": "data",
      "label": "Nom du conteneur",
      "name": "container",
      "options": {
       "widgetType": "text",
       "autoCreated": null,
       "validationRegex": null
      }
     }
    },
    "date_format": {
     "currentValue": "M/d/yyyy H:mm",
     "nuid": "6ccfad71-3b15-4924-b84a-4a295694be32",
     "typedWidgetInfo": {
      "autoCreated": false,
      "defaultValue": "M/d/yyyy H:mm",
      "label": "Format de date de la source",
      "name": "date_format",
      "options": {
       "widgetDisplayType": "Text",
       "validationRegex": null
      },
      "parameterDataType": "String"
     },
     "widgetInfo": {
      "widgetType": "text",
      "defaultValue": "M/d/yyyy H:mm",
      "label": "Format de date de la source",
      "name": "date_format",
      "options": {
       "widgetType": "text",
       "autoCreated": null,
       "validationRegex": null
      }
     }
    },
    "destination_folder": {
     "currentValue": "silver/sales_orders/",
     "nuid": "6b52c893-2230-465b-9a91-558b156f9578",
     "typedWidgetInfo": {
      "autoCreated": false,
      "defaultValue": "silver/sales_orders/",
      "label": "Dossier de destination dans la couche Silver",
      "name": "destination_folder",
      "options": {
       "widgetDisplayType": "Text",
       "validationRegex": null
      },
      "parameterDataType": "String"
     },
     "widgetInfo": {
      "widgetType": "text",
      "defaultValue": "silver/sales_orders/",
      "label": "Dossier de destination dans la couche Silver",
      "name": "destination_folder",
      "options": {
       "widgetType": "text",
       "autoCreated": null,
       "validationRegex": null
      }
     }
    },
    "source_folder": {
     "currentValue": "bronze/sales_orders/",
     "nuid": "967e96b3-e5e1-4bcd-99ed-f799cc91bed6",
     "typedWidgetInfo": {
      "autoCreated": false,
      "defaultValue": "bronze/sales_orders/",
      "label": "Dossier source dans la couche Bronze",
      "name": "source_folder",
      "options": {
       "widgetDisplayType": "Text",
       "validationRegex": null
      },
      "parameterDataType": "String"
     },
     "widgetInfo": {
      "widgetType": "text",
      "defaultValue": "bronze/sales_orders/",
      "label": "Dossier source dans la couche Bronze",
      "name": "source_folder",
      "options": {
       "widgetType": "text",
       "autoCreated": null,
       "validationRegex": null
      }
     }
    },
    "storage_account": {
     "currentValue": "stsalesinsightcuxm0611",
     "nuid": "08c33872-4144-4262-870c-7efb7389e192",
     "typedWidgetInfo": {
      "autoCreated": false,
      "defaultValue": "stsalesinsightcuxm0611",
      "label": "Nom du compte de stockage",
      "name": "storage_account",
      "options": {
       "widgetDisplayType": "Text",
       "validationRegex": null
      },
      "parameterDataType": "String"
     },
     "widgetInfo": {
      "widgetType": "text",
      "defaultValue": "stsalesinsightcuxm0611",
      "label": "Nom du compte de stockage",
      "name": "storage_account",
      "options": {
       "widgetType": "text",
       "autoCreated": null,
       "validationRegex": null
      }
     }
    }
   }
  },
  "language_info": {
   "name": "python"
  }
 },
 "nbformat": 4,
 "nbformat_minor": 0
}

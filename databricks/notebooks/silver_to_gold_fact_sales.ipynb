{
 "cells": [
  {
   "cell_type": "code",
   "execution_count": 0,
   "metadata": {
    "application/vnd.databricks.v1+cell": {
     "cellMetadata": {
      "byteLimit": 2048000,
      "rowLimit": 10000
     },
     "inputWidgets": {},
     "nuid": "dff5b5e9-aa3b-4625-b6b1-daeaa1a0a715",
     "showTitle": false,
     "tableResultSettingsMap": {},
     "title": ""
    }
   },
   "outputs": [],
   "source": [
    "# ======================================================================================\n",
    "# NOTEBOOK DE TRANSFORMATION : FactSales\n",
    "# ======================================================================================\n",
    "import logging\n",
    "import sys\n",
    "import os\n",
    "from pyspark.sql import DataFrame, SparkSession\n",
    "from pyspark.sql.functions import col, to_date, date_format\n",
    "\n",
    "# Ajoute le dossier 'src' au chemin pour pouvoir importer notre bibliothèque\n",
    "sys.path.append('../src') \n",
    "import common_utils # Importe notre bibliothèque partagée\n",
    "\n",
    "# ======================================================================================\n",
    "# 1. DÉCLARATION DES PARAMÈTRES (WIDGETS)\n",
    "# ======================================================================================\n",
    "dbutils.widgets.text(\"storage_account\", \"stsalesinsightcuxm0611\", \"Nom du compte de stockage\")\n",
    "dbutils.widgets.text(\"container\", \"data\", \"Nom du conteneur\")\n",
    "dbutils.widgets.text(\"silver_folder\", \"silver/sales_orders/\", \"Dossier source dans la couche Silver\")\n",
    "dbutils.widgets.text(\"secret_scope\", \"dbricks-scope-projet\", \"Scope unique pour les secrets du projet\")\n",
    "dbutils.widgets.text(\"adls_secret_key\", \"adls-access-key\", \"Clé du secret pour l'accès ADLS\")\n",
    "dbutils.widgets.text(\"sql_user_key\", \"sql-admin-user\", \"Clé du secret pour l'utilisateur SQL\")\n",
    "dbutils.widgets.text(\"sql_password_key\", \"sql-admin-password\", \"Clé du secret pour le mot de passe SQL\")\n",
    "dbutils.widgets.text(\"jdbc_hostname\", \"sqlsvr-salesinsightcuxm0611.database.windows.net\", \"Serveur Azure SQL DB\")\n",
    "dbutils.widgets.text(\"jdbc_database\", \"sqldb-salesinsight-gold\", \"Base de données Gold\")\n",
    "\n",
    "# ======================================================================================\n",
    "# 2. FONCTION DE TRANSFORMATION SPÉCIFIQUE\n",
    "# ======================================================================================\n",
    "\n",
    "def create_fact_sales(silver_df: DataFrame, dim_product_df: DataFrame, dim_customer_df: DataFrame, dim_date_df: DataFrame, dim_status_df: DataFrame, dim_deal_size_df: DataFrame) -> DataFrame:\n",
    "    \"\"\"\n",
    "    Crée la table de faits des ventes en joignant les données Silver avec toutes les dimensions.\n",
    "    \"\"\"\n",
    "    logging.info(\"Début de la création de la table de faits 'FactSales'.\")\n",
    "    \n",
    "    # a. Préparer le DataFrame Silver pour la jointure\n",
    "    df_sales = silver_df.withColumn(\"DateKey\", date_format(to_date(col(\"ORDERDATE\")), \"yyyyMMdd\").cast(\"int\"))\n",
    "\n",
    "    # b. Joindre avec les dimensions pour obtenir les clés de substitution\n",
    "    df_joined_prod = df_sales.join(dim_product_df, on=\"PRODUCTCODE\", how=\"left\")\n",
    "    df_joined_cust = df_joined_prod.join(dim_customer_df, on=\"CUSTOMERNAME\", how=\"left\")\n",
    "    df_joined_date = df_joined_cust.join(dim_date_df, on=\"DateKey\", how=\"left\")\n",
    "    df_joined_status = df_joined_date.join(dim_status_df, df_joined_date.STATUS == dim_status_df.StatusName, how=\"left\")\n",
    "    df_joined_deal = df_joined_status.join(dim_deal_size_df, df_joined_status.DEALSIZE == dim_deal_size_df.DealSizeName, how=\"left\")\n",
    "\n",
    "    # c. Sélectionner les colonnes finales pour la table de faits\n",
    "    fact_sales_df = df_joined_deal.select(\n",
    "        col(\"ORDERNUMBER\").alias(\"OrderNumber\"),\n",
    "        col(\"ProductKey\"),\n",
    "        col(\"CustomerKey\"),\n",
    "        col(\"DateKey\"),\n",
    "        col(\"StatusKey\"),\n",
    "        col(\"DealSizeKey\"),\n",
    "        col(\"QUANTITYORDERED\").alias(\"QuantityOrdered\"),\n",
    "        col(\"PRICEEACH\").alias(\"PriceEach\"),\n",
    "        col(\"SALES\").alias(\"SalesAmount\")\n",
    "    )\n",
    "    \n",
    "    logging.info(\"Création de 'FactSales' terminée.\")\n",
    "    return fact_sales_df\n",
    "\n",
    "# ======================================================================================\n",
    "# 3. POINT D'ENTRÉE PRINCIPAL (MAIN)\n",
    "# ======================================================================================\n",
    "if __name__ == \"__main__\":\n",
    "    \n",
    "    logging.basicConfig(level=logging.INFO, format='%(asctime)s - %(levelname)s - %(message)s')\n",
    "    \n",
    "    logging.info(\"===================================================\")\n",
    "    logging.info(\"DÉMARRAGE DU PIPELINE SILVER-TO-GOLD (FactSales)\")\n",
    "    logging.info(\"===================================================\")\n",
    "    \n",
    "    try:\n",
    "        # Récupération des paramètres\n",
    "        storage_account = dbutils.widgets.get(\"storage_account\").strip()\n",
    "        container = dbutils.widgets.get(\"container\").strip()\n",
    "        silver_folder = dbutils.widgets.get(\"silver_folder\").strip()\n",
    "        secret_scope = dbutils.widgets.get(\"secret_scope\").strip()\n",
    "        adls_secret_key = dbutils.widgets.get(\"adls_secret_key\").strip()\n",
    "        jdbc_hostname = dbutils.widgets.get(\"jdbc_hostname\").strip()\n",
    "        jdbc_database = dbutils.widgets.get(\"jdbc_database\").strip()\n",
    "        sql_user_key = dbutils.widgets.get(\"sql_user_key\").strip()\n",
    "        sql_password_key = dbutils.widgets.get(\"sql_password_key\").strip()\n",
    "\n",
    "        # --- ORCHESTRATION ---\n",
    "        \n",
    "        # 1. Utiliser la bibliothèque pour configurer les accès\n",
    "        common_utils.setup_adls_access(spark, dbutils, storage_account, secret_scope, adls_secret_key)\n",
    "        jdbc_url, connection_props = common_utils.get_jdbc_connection_properties(\n",
    "            dbutils, jdbc_hostname, jdbc_database, secret_scope, sql_user_key, sql_password_key\n",
    "        )\n",
    "        \n",
    "        # 2. Lire toutes les sources de données nécessaires\n",
    "        source_path = f\"abfss://{container}@{storage_account}.dfs.core.windows.net/{silver_folder}\"\n",
    "        df_silver = common_utils.read_silver_data(spark, source_path)\n",
    "                \n",
    "\n",
    "        logging.info(\"Lecture des tables de dimension depuis Azure SQL...\")\n",
    "        df_dim_product = spark.read.jdbc(url=jdbc_url, table=\"DimProduct\", properties=connection_props)\n",
    "        df_dim_customer = spark.read.jdbc(url=jdbc_url, table=\"DimCustomer\", properties=connection_props)\n",
    "        df_dim_date = spark.read.jdbc(url=jdbc_url, table=\"DimDate\", properties=connection_props)\n",
    "        df_dim_status = spark.read.jdbc(url=jdbc_url, table=\"DimOrderStatus\", properties=connection_props)\n",
    "        df_dim_deal_size = spark.read.jdbc(url=jdbc_url, table=\"DimDealSize\", properties=connection_props)\n",
    "        logging.info(\"Lecture des dimensions réussie.\")\n",
    "\n",
    "        # 3. Exécuter la transformation pour créer la table de faits\n",
    "        fact_sales_dataframe = create_fact_sales(df_silver, df_dim_product, df_dim_customer, df_dim_date, df_dim_status, df_dim_deal_size)\n",
    "        \n",
    "        # 4. Utiliser la bibliothèque pour écrire la table de faits\n",
    "        common_utils.write_dimension_to_gold(fact_sales_dataframe, \"FactSales\", jdbc_url, connection_props)\n",
    "        \n",
    "        logging.info(\"===================================================\")\n",
    "        logging.info(\"PIPELINE SILVER-TO-GOLD (FactSales) TERMINÉ AVEC SUCCÈS\")\n",
    "        logging.info(\"===================================================\")\n",
    "\n",
    "    except Exception as e:\n",
    "        logging.error(\"Le pipeline a échoué dans le bloc principal.\", exc_info=True)\n",
    "        raise e\n"
   ]
  }
 ],
 "metadata": {
  "application/vnd.databricks.v1+notebook": {
   "computePreferences": null,
   "dashboards": [],
   "environmentMetadata": {
    "base_environment": "",
    "environment_version": "2"
   },
   "inputWidgetPreferences": null,
   "language": "python",
   "notebookMetadata": {
    "pythonIndentUnit": 4
   },
   "notebookName": "silver_to_gold_fact_sales",
   "widgets": {
    "adls_secret_key": {
     "currentValue": "adls-access-key",
     "nuid": "542f4bf0-7115-4af9-a968-403793ae001f",
     "typedWidgetInfo": {
      "autoCreated": false,
      "defaultValue": "adls-access-key",
      "label": "Clé du secret pour l'accès ADLS",
      "name": "adls_secret_key",
      "options": {
       "widgetDisplayType": "Text",
       "validationRegex": null
      },
      "parameterDataType": "String"
     },
     "widgetInfo": {
      "widgetType": "text",
      "defaultValue": "adls-access-key",
      "label": "Clé du secret pour l'accès ADLS",
      "name": "adls_secret_key",
      "options": {
       "widgetType": "text",
       "autoCreated": null,
       "validationRegex": null
      }
     }
    },
    "container": {
     "currentValue": "data",
     "nuid": "f19364db-ef42-410b-8856-d2b9d0b9f3d1",
     "typedWidgetInfo": {
      "autoCreated": false,
      "defaultValue": "data",
      "label": "Nom du conteneur",
      "name": "container",
      "options": {
       "widgetDisplayType": "Text",
       "validationRegex": null
      },
      "parameterDataType": "String"
     },
     "widgetInfo": {
      "widgetType": "text",
      "defaultValue": "data",
      "label": "Nom du conteneur",
      "name": "container",
      "options": {
       "widgetType": "text",
       "autoCreated": null,
       "validationRegex": null
      }
     }
    },
    "jdbc_database": {
     "currentValue": "sqldb-salesinsight-gold",
     "nuid": "670ad4e9-a2e7-42a9-b1c8-37b6eb2ee222",
     "typedWidgetInfo": {
      "autoCreated": false,
      "defaultValue": "sqldb-salesinsight-gold",
      "label": "Base de données Gold",
      "name": "jdbc_database",
      "options": {
       "widgetDisplayType": "Text",
       "validationRegex": null
      },
      "parameterDataType": "String"
     },
     "widgetInfo": {
      "widgetType": "text",
      "defaultValue": "sqldb-salesinsight-gold",
      "label": "Base de données Gold",
      "name": "jdbc_database",
      "options": {
       "widgetType": "text",
       "autoCreated": null,
       "validationRegex": null
      }
     }
    },
    "jdbc_hostname": {
     "currentValue": "sqlsvr-salesinsightcuxm0611.database.windows.net",
     "nuid": "a96690d7-aa35-4345-9b14-74e8550367ef",
     "typedWidgetInfo": {
      "autoCreated": false,
      "defaultValue": "sqlsvr-salesinsightcuxm0611.database.windows.net",
      "label": "Serveur Azure SQL DB",
      "name": "jdbc_hostname",
      "options": {
       "widgetDisplayType": "Text",
       "validationRegex": null
      },
      "parameterDataType": "String"
     },
     "widgetInfo": {
      "widgetType": "text",
      "defaultValue": "sqlsvr-salesinsightcuxm0611.database.windows.net",
      "label": "Serveur Azure SQL DB",
      "name": "jdbc_hostname",
      "options": {
       "widgetType": "text",
       "autoCreated": null,
       "validationRegex": null
      }
     }
    },
    "secret_scope": {
     "currentValue": "dbricks-scope-projet",
     "nuid": "a12cefce-3222-46e6-9484-b9a083a26dbd",
     "typedWidgetInfo": {
      "autoCreated": false,
      "defaultValue": "dbricks-scope-projet",
      "label": "Scope unique pour les secrets du projet",
      "name": "secret_scope",
      "options": {
       "widgetDisplayType": "Text",
       "validationRegex": null
      },
      "parameterDataType": "String"
     },
     "widgetInfo": {
      "widgetType": "text",
      "defaultValue": "dbricks-scope-projet",
      "label": "Scope unique pour les secrets du projet",
      "name": "secret_scope",
      "options": {
       "widgetType": "text",
       "autoCreated": null,
       "validationRegex": null
      }
     }
    },
    "silver_folder": {
     "currentValue": "silver/sales_orders/",
     "nuid": "eaa78a99-c333-4d28-b866-01e2d0b9b5a4",
     "typedWidgetInfo": {
      "autoCreated": false,
      "defaultValue": "silver/sales_orders/",
      "label": "Dossier source dans la couche Silver",
      "name": "silver_folder",
      "options": {
       "widgetDisplayType": "Text",
       "validationRegex": null
      },
      "parameterDataType": "String"
     },
     "widgetInfo": {
      "widgetType": "text",
      "defaultValue": "silver/sales_orders/",
      "label": "Dossier source dans la couche Silver",
      "name": "silver_folder",
      "options": {
       "widgetType": "text",
       "autoCreated": null,
       "validationRegex": null
      }
     }
    },
    "sql_password_key": {
     "currentValue": "sql-admin-password",
     "nuid": "ce489a8d-5792-43d8-ab2d-51458ec98f10",
     "typedWidgetInfo": {
      "autoCreated": false,
      "defaultValue": "sql-admin-password",
      "label": "Clé du secret pour le mot de passe SQL",
      "name": "sql_password_key",
      "options": {
       "widgetDisplayType": "Text",
       "validationRegex": null
      },
      "parameterDataType": "String"
     },
     "widgetInfo": {
      "widgetType": "text",
      "defaultValue": "sql-admin-password",
      "label": "Clé du secret pour le mot de passe SQL",
      "name": "sql_password_key",
      "options": {
       "widgetType": "text",
       "autoCreated": null,
       "validationRegex": null
      }
     }
    },
    "sql_user_key": {
     "currentValue": "sql-admin-user",
     "nuid": "29b7efd2-5312-4aaf-a2e7-eb7810cb3df0",
     "typedWidgetInfo": {
      "autoCreated": false,
      "defaultValue": "sql-admin-user",
      "label": "Clé du secret pour l'utilisateur SQL",
      "name": "sql_user_key",
      "options": {
       "widgetDisplayType": "Text",
       "validationRegex": null
      },
      "parameterDataType": "String"
     },
     "widgetInfo": {
      "widgetType": "text",
      "defaultValue": "sql-admin-user",
      "label": "Clé du secret pour l'utilisateur SQL",
      "name": "sql_user_key",
      "options": {
       "widgetType": "text",
       "autoCreated": null,
       "validationRegex": null
      }
     }
    },
    "storage_account": {
     "currentValue": "stsalesinsightcuxm0611",
     "nuid": "d6d1336f-9359-446b-9907-d110017397b9",
     "typedWidgetInfo": {
      "autoCreated": false,
      "defaultValue": "stsalesinsightcuxm0611",
      "label": "Nom du compte de stockage",
      "name": "storage_account",
      "options": {
       "widgetDisplayType": "Text",
       "validationRegex": null
      },
      "parameterDataType": "String"
     },
     "widgetInfo": {
      "widgetType": "text",
      "defaultValue": "stsalesinsightcuxm0611",
      "label": "Nom du compte de stockage",
      "name": "storage_account",
      "options": {
       "widgetType": "text",
       "autoCreated": null,
       "validationRegex": null
      }
     }
    }
   }
  },
  "language_info": {
   "name": "python"
  }
 },
 "nbformat": 4,
 "nbformat_minor": 0
}

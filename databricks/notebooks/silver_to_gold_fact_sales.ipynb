{
 "cells": [
  {
   "cell_type": "code",
   "execution_count": 0,
   "metadata": {
    "application/vnd.databricks.v1+cell": {
     "cellMetadata": {
      "byteLimit": 2048000,
      "rowLimit": 10000
     },
     "inputWidgets": {},
     "nuid": "dff5b5e9-aa3b-4625-b6b1-daeaa1a0a715",
     "showTitle": false,
     "tableResultSettingsMap": {},
     "title": ""
    }
   },
   "outputs": [],
   "source": [
    "# ======================================================================================\n",
    "# BIBLIOTHÈQUES\n",
    "# ======================================================================================\n",
    "import logging\n",
    "from pyspark.sql import DataFrame, SparkSession\n",
    "from pyspark.sql.functions import col, to_date, date_format\n",
    "\n",
    "# ======================================================================================\n",
    "# 1. DÉCLARATION DES PARAMÈTRES (WIDGETS)\n",
    "# ======================================================================================\n",
    "dbutils.widgets.text(\"storage_account\", \"stsalesinsightcuxm0611\", \"Nom du compte de stockage\")\n",
    "dbutils.widgets.text(\"container\", \"data\", \"Nom du conteneur\")\n",
    "dbutils.widgets.text(\"silver_folder\", \"silver/sales_orders/\", \"Dossier source dans la couche Silver\")\n",
    "\n",
    "# --- Utilisation d'un scope de secrets unique pour tout le projet ---\n",
    "dbutils.widgets.text(\"secret_scope\", \"dbricks-scope-projet\", \"Scope unique pour les secrets du projet\")\n",
    "\n",
    "# Paramètres pour les clés des secrets\n",
    "dbutils.widgets.text(\"adls_secret_key\", \"adls-access-key\", \"Clé du secret pour l'accès ADLS\")\n",
    "dbutils.widgets.text(\"sql_user_key\", \"sql-admin-user\", \"Clé du secret pour l'utilisateur SQL\")\n",
    "dbutils.widgets.text(\"sql_password_key\", \"sql-admin-password\", \"Clé du secret pour le mot de passe SQL\")\n",
    "\n",
    "# Paramètres pour la connexion à Azure SQL\n",
    "dbutils.widgets.text(\"jdbc_hostname\", \"sqlsvr-salesinsightcuxm0611.database.windows.net\", \"Serveur Azure SQL DB\")\n",
    "dbutils.widgets.text(\"jdbc_database\", \"sqldb-salesinsight-gold\", \"Base de données Gold\")\n",
    "\n",
    "\n",
    "# ======================================================================================\n",
    "# 2. DÉFINITION DES FONCTIONS\n",
    "# ======================================================================================\n",
    "\n",
    "def setup_adls_access(storage_account: str, scope: str, key_name: str) -> None:\n",
    "    \"\"\"\n",
    "    Configure l'accès au compte de stockage ADLS Gen2 pour la session Spark en cours.\n",
    "    \"\"\"\n",
    "    logging.info(f\"Configuration de l'accès pour le compte de stockage : {storage_account}\")\n",
    "    access_key = dbutils.secrets.get(scope=scope, key=key_name)\n",
    "    spark.conf.set(\n",
    "        f\"fs.azure.account.key.{storage_account}.dfs.core.windows.net\",\n",
    "        access_key\n",
    "    )\n",
    "    logging.info(\"Accès ADLS configuré avec succès pour cette session.\")\n",
    "\n",
    "def get_jdbc_connection_properties(hostname: str, db_name: str, scope: str, user_key: str, pwd_key: str) -> tuple[str, dict]:\n",
    "    \"\"\"\n",
    "    Construit l'URL JDBC et le dictionnaire de propriétés pour la connexion à Azure SQL DB.\n",
    "    \"\"\"\n",
    "    logging.info(\"Configuration de la connexion JDBC.\")\n",
    "    jdbc_port = 1433\n",
    "    sql_user = dbutils.secrets.get(scope=scope, key=user_key)\n",
    "    sql_password = dbutils.secrets.get(scope=scope, key=pwd_key)\n",
    "    jdbc_url = f\"jdbc:sqlserver://{hostname}:{jdbc_port};database={db_name}\"\n",
    "    properties = {\n",
    "      \"user\": sql_user,\n",
    "      \"password\": sql_password,\n",
    "      \"driver\": \"com.microsoft.sqlserver.jdbc.SQLServerDriver\"\n",
    "    }\n",
    "    return jdbc_url, properties\n",
    "\n",
    "# --- CORRECTION: On supprime la fonction 'read_data' trop générique qui causait l'erreur ---\n",
    "\n",
    "def create_fact_sales(silver_df: DataFrame, dim_product_df: DataFrame, dim_customer_df: DataFrame, dim_date_df: DataFrame) -> DataFrame:\n",
    "    \"\"\"\n",
    "    Crée la table de faits des ventes en joignant les données Silver avec les dimensions.\n",
    "    \"\"\"\n",
    "    logging.info(\"Début de la création de la table de faits 'FactSales'.\")\n",
    "    \n",
    "    # a. Préparer le DataFrame Silver pour la jointure\n",
    "    df_sales = silver_df.withColumn(\"DateKey\", date_format(to_date(col(\"ORDERDATE\")), \"yyyyMMdd\").cast(\"int\"))\n",
    "\n",
    "    # b. Joindre avec les dimensions pour obtenir les clés de substitution\n",
    "    df_joined_prod = df_sales.join(dim_product_df, on=\"PRODUCTCODE\", how=\"left\")\n",
    "    df_joined_cust = df_joined_prod.join(dim_customer_df, on=\"CUSTOMERNAME\", how=\"left\")\n",
    "    df_joined_date = df_joined_cust.join(dim_date_df, on=\"DateKey\", how=\"left\")\n",
    "\n",
    "    # c. Sélectionner les colonnes finales pour la table de faits\n",
    "    fact_sales_df = df_joined_date.select(\n",
    "        col(\"ORDERNUMBER\").alias(\"OrderNumber\"),\n",
    "        col(\"ProductKey\"),\n",
    "        col(\"CustomerKey\"),\n",
    "        col(\"DateKey\"),\n",
    "        col(\"QUANTITYORDERED\").alias(\"QuantityOrdered\"),\n",
    "        col(\"PRICEEACH\").alias(\"PriceEach\"),\n",
    "        col(\"SALES\").alias(\"SalesAmount\")\n",
    "    )\n",
    "    \n",
    "    logging.info(\"Création de 'FactSales' terminée.\")\n",
    "    return fact_sales_df\n",
    "\n",
    "def write_fact_to_gold(fact_df: DataFrame, table_name: str, jdbc_url: str, properties: dict) -> None:\n",
    "    \"\"\"\n",
    "    Écrit la table de faits dans la couche Gold (Azure SQL DB).\n",
    "    \"\"\"\n",
    "    logging.info(f\"Début de l'écriture de la table de faits '{table_name}' vers la couche Gold.\")\n",
    "    try:\n",
    "        fact_df.write.jdbc(\n",
    "            url=jdbc_url,\n",
    "            table=table_name,\n",
    "            mode=\"overwrite\",\n",
    "            properties=properties\n",
    "        )\n",
    "        logging.info(f\"✅ La table de faits '{table_name}' a été écrite avec succès.\")\n",
    "    except Exception as e:\n",
    "        logging.error(f\"❌ ERREUR lors de l'écriture de la table de faits '{table_name}'.\", exc_info=True)\n",
    "        raise e\n",
    "\n",
    "# ======================================================================================\n",
    "# 3. POINT D'ENTRÉE PRINCIPAL (MAIN)\n",
    "# ======================================================================================\n",
    "if __name__ == \"__main__\":\n",
    "    \n",
    "    logging.basicConfig(level=logging.INFO, format='%(asctime)s - %(levelname)s - %(message)s')\n",
    "    \n",
    "    logging.info(\"===================================================\")\n",
    "    logging.info(\"DÉMARRAGE DU PIPELINE SILVER-TO-GOLD (FactSales)\")\n",
    "    logging.info(\"===================================================\")\n",
    "    \n",
    "    try:\n",
    "        # Récupération des paramètres\n",
    "        storage_account = dbutils.widgets.get(\"storage_account\").strip()\n",
    "        container = dbutils.widgets.get(\"container\").strip()\n",
    "        silver_folder = dbutils.widgets.get(\"silver_folder\").strip()\n",
    "        secret_scope = dbutils.widgets.get(\"secret_scope\").strip()\n",
    "        adls_secret_key = dbutils.widgets.get(\"adls_secret_key\").strip()\n",
    "        jdbc_hostname = dbutils.widgets.get(\"jdbc_hostname\").strip()\n",
    "        jdbc_database = dbutils.widgets.get(\"jdbc_database\").strip()\n",
    "        sql_user_key = dbutils.widgets.get(\"sql_user_key\").strip()\n",
    "        sql_password_key = dbutils.widgets.get(\"sql_password_key\").strip()\n",
    "\n",
    "        # --- ORCHESTRATION ---\n",
    "        \n",
    "        # 1. Configurer les accès\n",
    "        setup_adls_access(storage_account, secret_scope, adls_secret_key)\n",
    "        jdbc_url, connection_props = get_jdbc_connection_properties(\n",
    "            jdbc_hostname, jdbc_database, secret_scope, sql_user_key, sql_password_key\n",
    "        )\n",
    "        \n",
    "        # 2. Lire toutes les sources de données nécessaires\n",
    "        silver_path = f\"abfss://{container}@{storage_account}.dfs.core.windows.net/{silver_folder}\"\n",
    "        logging.info(f\"Lecture des données Silver depuis '{silver_path}'...\")\n",
    "        df_silver = spark.read.format(\"delta\").load(silver_path)\n",
    "        logging.info(\"Lecture des données Silver réussie.\")\n",
    "        \n",
    "        # --- CORRECTION: Utilisation explicite de spark.read.jdbc pour chaque table de dimension ---\n",
    "        logging.info(\"Lecture des tables de dimension depuis Azure SQL...\")\n",
    "        df_dim_product = spark.read.jdbc(url=jdbc_url, table=\"DimProduct\", properties=connection_props)\n",
    "        df_dim_customer = spark.read.jdbc(url=jdbc_url, table=\"DimCustomer\", properties=connection_props)\n",
    "        df_dim_date = spark.read.jdbc(url=jdbc_url, table=\"DimDate\", properties=connection_props)\n",
    "        logging.info(\"Lecture des dimensions réussie.\")\n",
    "\n",
    "        # 3. Exécuter la transformation pour créer la table de faits\n",
    "        fact_sales_dataframe = create_fact_sales(df_silver, df_dim_product, df_dim_customer, df_dim_date)\n",
    "        \n",
    "        # 4. Écrire la table de faits dans la base de données Gold\n",
    "        write_fact_to_gold(fact_sales_dataframe, \"FactSales\", jdbc_url, connection_props)\n",
    "        \n",
    "        logging.info(\"===================================================\")\n",
    "        logging.info(\"PIPELINE SILVER-TO-GOLD (FactSales) TERMINÉ AVEC SUCCÈS\")\n",
    "        logging.info(\"===================================================\")\n",
    "\n",
    "    except Exception as e:\n",
    "        logging.error(\"Le pipeline a échoué dans le bloc principal.\", exc_info=True)\n",
    "        raise e\n"
   ]
  }
 ],
 "metadata": {
  "application/vnd.databricks.v1+notebook": {
   "computePreferences": null,
   "dashboards": [],
   "environmentMetadata": {
    "base_environment": "",
    "environment_version": "2"
   },
   "inputWidgetPreferences": null,
   "language": "python",
   "notebookMetadata": {
    "pythonIndentUnit": 4
   },
   "notebookName": "silver_to_gold_fact_sales",
   "widgets": {
    "adls_secret_key": {
     "currentValue": "adls-access-key",
     "nuid": "542f4bf0-7115-4af9-a968-403793ae001f",
     "typedWidgetInfo": {
      "autoCreated": false,
      "defaultValue": "adls-access-key",
      "label": "Clé du secret pour l'accès ADLS",
      "name": "adls_secret_key",
      "options": {
       "widgetDisplayType": "Text",
       "validationRegex": null
      },
      "parameterDataType": "String"
     },
     "widgetInfo": {
      "widgetType": "text",
      "defaultValue": "adls-access-key",
      "label": "Clé du secret pour l'accès ADLS",
      "name": "adls_secret_key",
      "options": {
       "widgetType": "text",
       "autoCreated": null,
       "validationRegex": null
      }
     }
    },
    "container": {
     "currentValue": "data",
     "nuid": "f19364db-ef42-410b-8856-d2b9d0b9f3d1",
     "typedWidgetInfo": {
      "autoCreated": false,
      "defaultValue": "data",
      "label": "Nom du conteneur",
      "name": "container",
      "options": {
       "widgetDisplayType": "Text",
       "validationRegex": null
      },
      "parameterDataType": "String"
     },
     "widgetInfo": {
      "widgetType": "text",
      "defaultValue": "data",
      "label": "Nom du conteneur",
      "name": "container",
      "options": {
       "widgetType": "text",
       "autoCreated": null,
       "validationRegex": null
      }
     }
    },
    "jdbc_database": {
     "currentValue": "sqldb-salesinsight-gold",
     "nuid": "670ad4e9-a2e7-42a9-b1c8-37b6eb2ee222",
     "typedWidgetInfo": {
      "autoCreated": false,
      "defaultValue": "sqldb-salesinsight-gold",
      "label": "Base de données Gold",
      "name": "jdbc_database",
      "options": {
       "widgetDisplayType": "Text",
       "validationRegex": null
      },
      "parameterDataType": "String"
     },
     "widgetInfo": {
      "widgetType": "text",
      "defaultValue": "sqldb-salesinsight-gold",
      "label": "Base de données Gold",
      "name": "jdbc_database",
      "options": {
       "widgetType": "text",
       "autoCreated": null,
       "validationRegex": null
      }
     }
    },
    "jdbc_hostname": {
     "currentValue": "sqlsvr-salesinsightcuxm0611.database.windows.net",
     "nuid": "a96690d7-aa35-4345-9b14-74e8550367ef",
     "typedWidgetInfo": {
      "autoCreated": false,
      "defaultValue": "sqlsvr-salesinsightcuxm0611.database.windows.net",
      "label": "Serveur Azure SQL DB",
      "name": "jdbc_hostname",
      "options": {
       "widgetDisplayType": "Text",
       "validationRegex": null
      },
      "parameterDataType": "String"
     },
     "widgetInfo": {
      "widgetType": "text",
      "defaultValue": "sqlsvr-salesinsightcuxm0611.database.windows.net",
      "label": "Serveur Azure SQL DB",
      "name": "jdbc_hostname",
      "options": {
       "widgetType": "text",
       "autoCreated": null,
       "validationRegex": null
      }
     }
    },
    "secret_scope": {
     "currentValue": "dbricks-scope-projet",
     "nuid": "a12cefce-3222-46e6-9484-b9a083a26dbd",
     "typedWidgetInfo": {
      "autoCreated": false,
      "defaultValue": "dbricks-scope-projet",
      "label": "Scope unique pour les secrets du projet",
      "name": "secret_scope",
      "options": {
       "widgetDisplayType": "Text",
       "validationRegex": null
      },
      "parameterDataType": "String"
     },
     "widgetInfo": {
      "widgetType": "text",
      "defaultValue": "dbricks-scope-projet",
      "label": "Scope unique pour les secrets du projet",
      "name": "secret_scope",
      "options": {
       "widgetType": "text",
       "autoCreated": null,
       "validationRegex": null
      }
     }
    },
    "silver_folder": {
     "currentValue": "silver/sales_orders/",
     "nuid": "eaa78a99-c333-4d28-b866-01e2d0b9b5a4",
     "typedWidgetInfo": {
      "autoCreated": false,
      "defaultValue": "silver/sales_orders/",
      "label": "Dossier source dans la couche Silver",
      "name": "silver_folder",
      "options": {
       "widgetDisplayType": "Text",
       "validationRegex": null
      },
      "parameterDataType": "String"
     },
     "widgetInfo": {
      "widgetType": "text",
      "defaultValue": "silver/sales_orders/",
      "label": "Dossier source dans la couche Silver",
      "name": "silver_folder",
      "options": {
       "widgetType": "text",
       "autoCreated": null,
       "validationRegex": null
      }
     }
    },
    "sql_password_key": {
     "currentValue": "sql-admin-password",
     "nuid": "ce489a8d-5792-43d8-ab2d-51458ec98f10",
     "typedWidgetInfo": {
      "autoCreated": false,
      "defaultValue": "sql-admin-password",
      "label": "Clé du secret pour le mot de passe SQL",
      "name": "sql_password_key",
      "options": {
       "widgetDisplayType": "Text",
       "validationRegex": null
      },
      "parameterDataType": "String"
     },
     "widgetInfo": {
      "widgetType": "text",
      "defaultValue": "sql-admin-password",
      "label": "Clé du secret pour le mot de passe SQL",
      "name": "sql_password_key",
      "options": {
       "widgetType": "text",
       "autoCreated": null,
       "validationRegex": null
      }
     }
    },
    "sql_user_key": {
     "currentValue": "sql-admin-user",
     "nuid": "29b7efd2-5312-4aaf-a2e7-eb7810cb3df0",
     "typedWidgetInfo": {
      "autoCreated": false,
      "defaultValue": "sql-admin-user",
      "label": "Clé du secret pour l'utilisateur SQL",
      "name": "sql_user_key",
      "options": {
       "widgetDisplayType": "Text",
       "validationRegex": null
      },
      "parameterDataType": "String"
     },
     "widgetInfo": {
      "widgetType": "text",
      "defaultValue": "sql-admin-user",
      "label": "Clé du secret pour l'utilisateur SQL",
      "name": "sql_user_key",
      "options": {
       "widgetType": "text",
       "autoCreated": null,
       "validationRegex": null
      }
     }
    },
    "storage_account": {
     "currentValue": "stsalesinsightcuxm0611",
     "nuid": "d6d1336f-9359-446b-9907-d110017397b9",
     "typedWidgetInfo": {
      "autoCreated": false,
      "defaultValue": "stsalesinsightcuxm0611",
      "label": "Nom du compte de stockage",
      "name": "storage_account",
      "options": {
       "widgetDisplayType": "Text",
       "validationRegex": null
      },
      "parameterDataType": "String"
     },
     "widgetInfo": {
      "widgetType": "text",
      "defaultValue": "stsalesinsightcuxm0611",
      "label": "Nom du compte de stockage",
      "name": "storage_account",
      "options": {
       "widgetType": "text",
       "autoCreated": null,
       "validationRegex": null
      }
     }
    }
   }
  },
  "language_info": {
   "name": "python"
  }
 },
 "nbformat": 4,
 "nbformat_minor": 0
}

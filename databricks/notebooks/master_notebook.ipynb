{
 "cells": [
  {
   "cell_type": "code",
   "execution_count": 0,
   "metadata": {
    "application/vnd.databricks.v1+cell": {
     "cellMetadata": {
      "byteLimit": 2048000,
      "rowLimit": 10000
     },
     "inputWidgets": {},
     "nuid": "7792d8bf-4f5b-4a41-ba14-6110133351f9",
     "showTitle": false,
     "tableResultSettingsMap": {},
     "title": ""
    }
   },
   "outputs": [],
   "source": [
    "# ======================================================================================\n",
    "\n",
    "# NOTEBOOK ORCHESTRATEUR\n",
    "\n",
    "# Version finale utilisant des chemins absolus pour garantir la fiabilité de l'exécution.\n",
    "\n",
    "# ======================================================================================\n",
    "\n",
    "import logging\n",
    "\n",
    "import json\n",
    "\n",
    "\n",
    "\n",
    "# ======================================================================================\n",
    "\n",
    "# 1. DÉCLARATION DES PARAMÈTRES (WIDGETS)\n",
    "\n",
    "# ======================================================================================\n",
    "\n",
    "logging.info(\"DÉMARRAGE DU PIPELINE ORCHESTRATEUR)\")\n",
    "\n",
    "\n",
    "\n",
    "dbutils.widgets.text(\"child_notebook_path\", \"\", \"Chemin du notebook à exécuter\")\n",
    "\n",
    "dbutils.widgets.text(\"storage_account\", \"stsalesinsightcuxm0611\", \"Nom du compte de stockage\")\n",
    "\n",
    "dbutils.widgets.text(\"container\", \"data\", \"Nom du conteneur\")\n",
    "\n",
    "dbutils.widgets.text(\"silver_folder\", \"silver/sales_orders/\", \"Dossier source dans la couche Silver\")\n",
    "\n",
    "dbutils.widgets.text(\"secret_scope\", \"dbricks-scope-projet\", \"Scope unique pour les secrets du projet\")\n",
    "\n",
    "dbutils.widgets.text(\"adls_secret_key\", \"adls-access-key\", \"Clé du secret pour l'accès ADLS\")\n",
    "\n",
    "dbutils.widgets.text(\"sql_user_key\", \"sql-admin-user\", \"Clé du secret pour l'utilisateur SQL\")\n",
    "\n",
    "dbutils.widgets.text(\"sql_password_key\", \"sql-admin-password\", \"Clé du secret pour le mot de passe SQL\")\n",
    "\n",
    "dbutils.widgets.text(\"jdbc_hostname\", \"sqlsvr-salesinsightcuxm0611.database.windows.net\", \"Serveur Azure SQL DB\")\n",
    "\n",
    "dbutils.widgets.text(\"jdbc_database\", \"sqldb-salesinsight-gold\", \"Base de données Gold\")\n",
    "\n",
    "logging.info(\"Widgets déclarés.\")\n",
    "\n",
    "\n",
    "\n",
    "# ======================================================================================\n",
    "\n",
    "# 2. POINT D'ENTRÉE PRINCIPAL (MAIN)\n",
    "\n",
    "# ======================================================================================\n",
    "\n",
    "if __name__ == \"__main__\":\n",
    "    logging.info(\"Entrée dans le bloc __main__.\")\n",
    "\n",
    "    logging.basicConfig(level=logging.INFO, format='%(asctime)s - %(levelname)s - %(message)s')\n",
    "\n",
    "\n",
    "\n",
    "    child_notebook = dbutils.widgets.get(\"child_notebook_path\").strip()\n",
    "\n",
    "\n",
    "    params_to_pass = {\n",
    "\n",
    "    \"storage_account\": dbutils.widgets.get(\"storage_account\"),\n",
    "\n",
    "    \"container\": dbutils.widgets.get(\"container\"),\n",
    "\n",
    "    \"silver_folder\": dbutils.widgets.get(\"silver_folder\"),\n",
    "\n",
    "\"secret_scope\": dbutils.widgets.get(\"secret_scope\"),\n",
    "\n",
    "\"adls_secret_key\": dbutils.widgets.get(\"adls_secret_key\"),\n",
    "\n",
    "\"sql_user_key\": dbutils.widgets.get(\"sql_user_key\"),\n",
    "\n",
    "\"sql_password_key\": dbutils.widgets.get(\"sql_password_key\"),\n",
    "\"jdbc_hostname\": dbutils.widgets.get(\"jdbc_hostname\"),\n",
    "\n",
    "    \"jdbc_database\": dbutils.widgets.get(\"jdbc_database\"),\n",
    "\n",
    "}\n",
    "\n",
    "\n",
    "\n",
    "if child_notebook:\n",
    "\n",
    "# MODE PRODUCTION (appelé par ADF)\n",
    "\n",
    "    logging.info(f\"Mode Production (ADF) : Exécution du notebook enfant : {child_notebook}\")\n",
    "\n",
    "    try:\n",
    "\n",
    "        dbutils.notebook.run(path=child_notebook, timeout_seconds=3600, arguments=params_to_pass)\n",
    "\n",
    "        logging.info(f\"Le notebook enfant {child_notebook} s'est terminé avec succès.\")\n",
    "\n",
    "    except Exception as e:\n",
    "\n",
    "        logging.error(f\"❌ L'exécution du notebook enfant {child_notebook} a échoué.\", exc_info=True)\n",
    "\n",
    "        raise e\n",
    "\n",
    "else:\n",
    "\n",
    "# MODE TEST (exécuté manuellement)\n",
    "\n",
    "    logging.warning(\"Mode Test d'Intégration : Exécution de la séquence complète des dimensions.\")\n",
    "\n",
    "\n",
    "# --- CORRECTION : Utilisation des chemins absolus du Repo ---\n",
    "\n",
    "# C'est la méthode la plus robuste pour éviter les problèmes de contexte d'exécution.\n",
    "\n",
    "# NOTE : Le chemin /Workspace/ est la racine pour les appels dbutils.notebook.run\n",
    "# \n",
    "    repo_base_path = \"/Workspace/Repos/fara.niang@lightberg.com/insight-azure-project\"\n",
    "\n",
    "\n",
    "\n",
    "    dimension_notebooks = [\n",
    "\n",
    "          f\"{repo_base_path}/databricks/notebooks/silver_to_gold_dim_product\",\n",
    "\n",
    " ]\n",
    "\n",
    "for notebook_path in dimension_notebooks:\n",
    "\n",
    "    logging.info(f\"===================================================\")\n",
    "\n",
    "    logging.info(f\"Début de l'exécution du notebook de test : {notebook_path}\")\n",
    "\n",
    "\n",
    "    try:\n",
    "\n",
    "        dbutils.notebook.run(\n",
    "\n",
    "                            path=notebook_path,\n",
    "\n",
    "                            timeout_seconds=3600,\n",
    "                            arguments=params_to_pass\n",
    "\n",
    "                        )\n",
    "        logging.info(f\"✅ Le notebook {notebook_path} s'est terminé avec succès.\")\n",
    "\n",
    "    except Exception as e:\n",
    "\n",
    "        error_message = str(e)\n",
    "\n",
    "        logging.error(f\"❌ L'exécution du notebook {notebook_path} a ÉCHOUÉ.\")\n",
    "\n",
    "        logging.error(f\"MESSAGE D'ERREUR BRUT : {error_message}\")\n",
    "\n",
    "        dbutils.notebook.exit(f\"Échec sur le notebook {notebook_path}. Erreur : {error_message}\")\n",
    "\n",
    "        raise e\n",
    "\n",
    "\n",
    "\n",
    "    logging.info(\"===================================================\")\n",
    "\n",
    "    logging.info(\"✅ Test d'intégration complet terminé avec succès.\")\n",
    "\n",
    "    logging.info(\"===================================================\")"
   ]
  }
 ],
 "metadata": {
  "application/vnd.databricks.v1+notebook": {
   "computePreferences": null,
   "dashboards": [],
   "environmentMetadata": {
    "base_environment": "",
    "environment_version": "2"
   },
   "inputWidgetPreferences": null,
   "language": "python",
   "notebookMetadata": {
    "pythonIndentUnit": 4
   },
   "notebookName": "master_notebook",
   "widgets": {
    "adls_secret_key": {
     "currentValue": "adls-access-key",
     "nuid": "f1366415-d434-4b8c-aede-66585472b71b",
     "typedWidgetInfo": {
      "autoCreated": false,
      "defaultValue": "adls-access-key",
      "label": "Clé du secret pour l'accès ADLS",
      "name": "adls_secret_key",
      "options": {
       "widgetDisplayType": "Text",
       "validationRegex": null
      },
      "parameterDataType": "String"
     },
     "widgetInfo": {
      "widgetType": "text",
      "defaultValue": "adls-access-key",
      "label": "Clé du secret pour l'accès ADLS",
      "name": "adls_secret_key",
      "options": {
       "widgetType": "text",
       "autoCreated": false,
       "validationRegex": null
      }
     }
    },
    "child_notebook_path": {
     "currentValue": "",
     "nuid": "bcb34635-e888-4e8f-a547-603f83de91bc",
     "typedWidgetInfo": {
      "autoCreated": false,
      "defaultValue": "",
      "label": "Chemin du notebook à exécuter",
      "name": "child_notebook_path",
      "options": {
       "widgetDisplayType": "Text",
       "validationRegex": null
      },
      "parameterDataType": "String"
     },
     "widgetInfo": {
      "widgetType": "text",
      "defaultValue": "",
      "label": "Chemin du notebook à exécuter",
      "name": "child_notebook_path",
      "options": {
       "widgetType": "text",
       "autoCreated": false,
       "validationRegex": null
      }
     }
    },
    "container": {
     "currentValue": "data",
     "nuid": "972171a4-ac23-46f4-a82e-6cece9fae369",
     "typedWidgetInfo": {
      "autoCreated": false,
      "defaultValue": "data",
      "label": "Nom du conteneur",
      "name": "container",
      "options": {
       "widgetDisplayType": "Text",
       "validationRegex": null
      },
      "parameterDataType": "String"
     },
     "widgetInfo": {
      "widgetType": "text",
      "defaultValue": "data",
      "label": "Nom du conteneur",
      "name": "container",
      "options": {
       "widgetType": "text",
       "autoCreated": false,
       "validationRegex": null
      }
     }
    },
    "jdbc_database": {
     "currentValue": "sqldb-salesinsight-gold",
     "nuid": "8127bfa4-f04e-44e3-b5a3-da9d8ac48e91",
     "typedWidgetInfo": {
      "autoCreated": false,
      "defaultValue": "sqldb-salesinsight-gold",
      "label": "Base de données Gold",
      "name": "jdbc_database",
      "options": {
       "widgetDisplayType": "Text",
       "validationRegex": null
      },
      "parameterDataType": "String"
     },
     "widgetInfo": {
      "widgetType": "text",
      "defaultValue": "sqldb-salesinsight-gold",
      "label": "Base de données Gold",
      "name": "jdbc_database",
      "options": {
       "widgetType": "text",
       "autoCreated": false,
       "validationRegex": null
      }
     }
    },
    "jdbc_hostname": {
     "currentValue": "sqlsvr-salesinsightcuxm0611.database.windows.net",
     "nuid": "9488602a-1b80-4399-94be-af7d0a794000",
     "typedWidgetInfo": {
      "autoCreated": false,
      "defaultValue": "sqlsvr-salesinsightcuxm0611.database.windows.net",
      "label": "Serveur Azure SQL DB",
      "name": "jdbc_hostname",
      "options": {
       "widgetDisplayType": "Text",
       "validationRegex": null
      },
      "parameterDataType": "String"
     },
     "widgetInfo": {
      "widgetType": "text",
      "defaultValue": "sqlsvr-salesinsightcuxm0611.database.windows.net",
      "label": "Serveur Azure SQL DB",
      "name": "jdbc_hostname",
      "options": {
       "widgetType": "text",
       "autoCreated": false,
       "validationRegex": null
      }
     }
    },
    "secret_scope": {
     "currentValue": "dbricks-scope-projet",
     "nuid": "88b52f87-8bec-432d-aeb9-d0a8ba8a14dd",
     "typedWidgetInfo": {
      "autoCreated": false,
      "defaultValue": "dbricks-scope-projet",
      "label": "Scope unique pour les secrets du projet",
      "name": "secret_scope",
      "options": {
       "widgetDisplayType": "Text",
       "validationRegex": null
      },
      "parameterDataType": "String"
     },
     "widgetInfo": {
      "widgetType": "text",
      "defaultValue": "dbricks-scope-projet",
      "label": "Scope unique pour les secrets du projet",
      "name": "secret_scope",
      "options": {
       "widgetType": "text",
       "autoCreated": false,
       "validationRegex": null
      }
     }
    },
    "silver_folder": {
     "currentValue": "silver/sales_orders/",
     "nuid": "01ef3b8d-4364-413b-a219-fce3c4690bcc",
     "typedWidgetInfo": {
      "autoCreated": false,
      "defaultValue": "silver/sales_orders/",
      "label": "Dossier source dans la couche Silver",
      "name": "silver_folder",
      "options": {
       "widgetDisplayType": "Text",
       "validationRegex": null
      },
      "parameterDataType": "String"
     },
     "widgetInfo": {
      "widgetType": "text",
      "defaultValue": "silver/sales_orders/",
      "label": "Dossier source dans la couche Silver",
      "name": "silver_folder",
      "options": {
       "widgetType": "text",
       "autoCreated": false,
       "validationRegex": null
      }
     }
    },
    "sql_password_key": {
     "currentValue": "sql-admin-password",
     "nuid": "e10f58da-c1e5-46ba-b1e1-a8a11fa9039b",
     "typedWidgetInfo": {
      "autoCreated": false,
      "defaultValue": "sql-admin-password",
      "label": "Clé du secret pour le mot de passe SQL",
      "name": "sql_password_key",
      "options": {
       "widgetDisplayType": "Text",
       "validationRegex": null
      },
      "parameterDataType": "String"
     },
     "widgetInfo": {
      "widgetType": "text",
      "defaultValue": "sql-admin-password",
      "label": "Clé du secret pour le mot de passe SQL",
      "name": "sql_password_key",
      "options": {
       "widgetType": "text",
       "autoCreated": false,
       "validationRegex": null
      }
     }
    },
    "sql_user_key": {
     "currentValue": "sql-admin-user",
     "nuid": "14b99133-4edc-410a-ba8a-1f92e418b455",
     "typedWidgetInfo": {
      "autoCreated": false,
      "defaultValue": "sql-admin-user",
      "label": "Clé du secret pour l'utilisateur SQL",
      "name": "sql_user_key",
      "options": {
       "widgetDisplayType": "Text",
       "validationRegex": null
      },
      "parameterDataType": "String"
     },
     "widgetInfo": {
      "widgetType": "text",
      "defaultValue": "sql-admin-user",
      "label": "Clé du secret pour l'utilisateur SQL",
      "name": "sql_user_key",
      "options": {
       "widgetType": "text",
       "autoCreated": false,
       "validationRegex": null
      }
     }
    },
    "storage_account": {
     "currentValue": "stsalesinsightcuxm0611",
     "nuid": "97a56eb9-dd21-4760-856b-77e213192c62",
     "typedWidgetInfo": {
      "autoCreated": false,
      "defaultValue": "stsalesinsightcuxm0611",
      "label": "Nom du compte de stockage",
      "name": "storage_account",
      "options": {
       "widgetDisplayType": "Text",
       "validationRegex": null
      },
      "parameterDataType": "String"
     },
     "widgetInfo": {
      "widgetType": "text",
      "defaultValue": "stsalesinsightcuxm0611",
      "label": "Nom du compte de stockage",
      "name": "storage_account",
      "options": {
       "widgetType": "text",
       "autoCreated": false,
       "validationRegex": null
      }
     }
    }
   }
  },
  "language_info": {
   "name": "python"
  }
 },
 "nbformat": 4,
 "nbformat_minor": 0
}

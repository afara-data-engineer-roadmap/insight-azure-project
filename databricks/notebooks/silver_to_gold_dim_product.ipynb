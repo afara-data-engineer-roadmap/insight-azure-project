{
 "cells": [
  {
   "cell_type": "code",
   "execution_count": 0,
   "metadata": {
    "application/vnd.databricks.v1+cell": {
     "cellMetadata": {
      "byteLimit": 2048000,
      "rowLimit": 10000
     },
     "inputWidgets": {},
     "nuid": "c72013ac-ccd9-4715-a205-907fa3b6e57f",
     "showTitle": false,
     "tableResultSettingsMap": {},
     "title": ""
    }
   },
   "outputs": [],
   "source": [
    "# ======================================================================================\n",
    "# DimProduct\n",
    "# ======================================================================================\n",
    "import logging\n",
    "import sys\n",
    "from pyspark.sql import DataFrame\n",
    "from pyspark.sql.functions import col, monotonically_increasing_id\n",
    "\n",
    "# Ajoute le dossier 'src' au chemin pour pouvoir importer notre bibliothèque\n",
    "sys.path.append('../src') \n",
    "import common_utils # Importe notre bibliothèque partagée\n",
    "\n",
    "# ======================================================================================\n",
    "# 1. DÉCLARATION DES PARAMÈTRES (WIDGETS)\n",
    "# ======================================================================================\n",
    "dbutils.widgets.text(\"storage_account\", \"stsalesinsightcuxm0611\", \"Nom du compte de stockage\")\n",
    "dbutils.widgets.text(\"container\", \"data\", \"Nom du conteneur\")\n",
    "dbutils.widgets.text(\"silver_folder\", \"silver/sales_orders/\", \"Dossier source dans la couche Silver\")\n",
    "dbutils.widgets.text(\"secret_scope\", \"dbricks-scope-projet\", \"Scope unique pour les secrets du projet\")\n",
    "dbutils.widgets.text(\"adls_secret_key\", \"adls-access-key\", \"Clé du secret pour l'accès ADLS\")\n",
    "dbutils.widgets.text(\"sql_user_key\", \"sql-admin-user\", \"Clé du secret pour l'utilisateur SQL\")\n",
    "dbutils.widgets.text(\"sql_password_key\", \"sql-admin-password\", \"Clé du secret pour le mot de passe SQL\")\n",
    "dbutils.widgets.text(\"jdbc_hostname\", \"sqlsvr-salesinsightcuxm0611.database.windows.net\", \"Serveur Azure SQL DB\")\n",
    "dbutils.widgets.text(\"jdbc_database\", \"sqldb-salesinsight-gold\", \"Base de données Gold\")\n",
    "\n",
    "\n",
    "# ======================================================================================\n",
    "# 2. FONCTION DE TRANSFORMATION SPÉCIFIQUE\n",
    "# ======================================================================================\n",
    "\n",
    "def transform_to_dim_product(silver_df: DataFrame) -> DataFrame:\n",
    "    \"\"\"\n",
    "    Crée la dimension Produit à partir des données Silver.\n",
    "    C'est la SEULE logique qui est propre à ce notebook.\n",
    "    \"\"\"\n",
    "    logging.info(\"Début de la création de la dimension 'DimProduct'.\")\n",
    "    df_dim_product = silver_df.select(\"PRODUCTCODE\", \"PRODUCTLINE\", \"MSRP\").distinct()\n",
    "    df_dim_product = df_dim_product.withColumn(\"ProductKey\", monotonically_increasing_id())\n",
    "    df_dim_product_final = df_dim_product.select(\"ProductKey\", \"PRODUCTCODE\", \"PRODUCTLINE\", \"MSRP\")\n",
    "    logging.info(\"Transformation vers 'DimProduct' terminée.\")\n",
    "    return df_dim_product_final\n",
    "\n",
    "# ======================================================================================\n",
    "# 3. POINT D'ENTRÉE PRINCIPAL (MAIN)\n",
    "# ======================================================================================\n",
    "if __name__ == \"__main__\":\n",
    "    \n",
    "    logging.basicConfig(level=logging.INFO, format='%(asctime)s - %(levelname)s - %(message)s')\n",
    "    \n",
    "    logging.info(\"===================================================\")\n",
    "    logging.info(\"DÉMARRAGE DU PIPELINE SILVER-TO-GOLD (DimProduct)\")\n",
    "    logging.info(\"===================================================\")\n",
    "    \n",
    "    try:\n",
    "        # Récupération des paramètres\n",
    "        storage_account = dbutils.widgets.get(\"storage_account\").strip()\n",
    "        container = dbutils.widgets.get(\"container\").strip()\n",
    "        silver_folder = dbutils.widgets.get(\"silver_folder\").strip()\n",
    "        secret_scope = dbutils.widgets.get(\"secret_scope\").strip()\n",
    "        adls_secret_key = dbutils.widgets.get(\"adls_secret_key\").strip()\n",
    "        jdbc_hostname = dbutils.widgets.get(\"jdbc_hostname\").strip()\n",
    "        jdbc_database = dbutils.widgets.get(\"jdbc_database\").strip()\n",
    "        sql_user_key = dbutils.widgets.get(\"sql_user_key\").strip()\n",
    "        sql_password_key = dbutils.widgets.get(\"sql_password_key\").strip()\n",
    "\n",
    "        # --- ORCHESTRATION ---\n",
    "        \n",
    "        # 1. Utiliser la bibliothèque pour configurer les accès\n",
    "        common_utils.setup_adls_access(spark, dbutils, storage_account, secret_scope, adls_secret_key)\n",
    "        jdbc_url, connection_props = common_utils.get_jdbc_connection_properties(\n",
    "            dbutils, jdbc_hostname, jdbc_database, secret_scope, sql_user_key, sql_password_key\n",
    "        )\n",
    "        \n",
    "        # 2. Utiliser la bibliothèque pour lire les données\n",
    "        source_path = f\"abfss://{container}@{storage_account}.dfs.core.windows.net/{silver_folder}\"\n",
    "        silver_dataframe = common_utils.read_silver_data(spark, source_path)\n",
    "        \n",
    "        # 3. Exécuter la logique de transformation spécifique à ce notebook\n",
    "        dim_product_dataframe = transform_to_dim_product(silver_dataframe)\n",
    "        \n",
    "        # 4. Utiliser la bibliothèque pour écrire le résultat\n",
    "        common_utils.write_dimension_to_gold(dim_product_dataframe, \"DimProduct\", jdbc_url, connection_props)\n",
    "        \n",
    "        logging.info(\"===================================================\")\n",
    "        logging.info(\"PIPELINE SILVER-TO-GOLD (DimProduct) TERMINÉ AVEC SUCCÈS\")\n",
    "        logging.info(\"===================================================\")\n",
    "\n",
    "    except Exception as e:\n",
    "        logging.error(\"Le pipeline a échoué dans le bloc principal.\", exc_info=True)\n",
    "        raise e"
   ]
  }
 ],
 "metadata": {
  "application/vnd.databricks.v1+notebook": {
   "computePreferences": null,
   "dashboards": [],
   "environmentMetadata": {
    "base_environment": "",
    "environment_version": "2"
   },
   "inputWidgetPreferences": null,
   "language": "python",
   "notebookMetadata": {
    "pythonIndentUnit": 4
   },
   "notebookName": "silver_to_gold_dim_product",
   "widgets": {
    "adls_secret_key": {
     "currentValue": "adls-access-key",
     "nuid": "79da9b02-770b-451a-b430-ad1a52aa9ad4",
     "typedWidgetInfo": {
      "autoCreated": false,
      "defaultValue": "adls-access-key",
      "label": "Clé du secret pour l'accès ADLS",
      "name": "adls_secret_key",
      "options": {
       "widgetDisplayType": "Text",
       "validationRegex": null
      },
      "parameterDataType": "String"
     },
     "widgetInfo": {
      "widgetType": "text",
      "defaultValue": "adls-access-key",
      "label": "Clé du secret pour l'accès ADLS",
      "name": "adls_secret_key",
      "options": {
       "widgetType": "text",
       "autoCreated": null,
       "validationRegex": null
      }
     }
    },
    "container": {
     "currentValue": "data",
     "nuid": "ac779d79-131e-4c86-8e00-43eefadf9517",
     "typedWidgetInfo": {
      "autoCreated": false,
      "defaultValue": "data",
      "label": "Nom du conteneur",
      "name": "container",
      "options": {
       "widgetDisplayType": "Text",
       "validationRegex": null
      },
      "parameterDataType": "String"
     },
     "widgetInfo": {
      "widgetType": "text",
      "defaultValue": "data",
      "label": "Nom du conteneur",
      "name": "container",
      "options": {
       "widgetType": "text",
       "autoCreated": null,
       "validationRegex": null
      }
     }
    },
    "jdbc_database": {
     "currentValue": "sqldb-salesinsight-gold",
     "nuid": "4d630d70-0073-4e09-93ed-332f1f2c03db",
     "typedWidgetInfo": {
      "autoCreated": false,
      "defaultValue": "sqldb-salesinsight-gold",
      "label": "Base de données Gold",
      "name": "jdbc_database",
      "options": {
       "widgetDisplayType": "Text",
       "validationRegex": null
      },
      "parameterDataType": "String"
     },
     "widgetInfo": {
      "widgetType": "text",
      "defaultValue": "sqldb-salesinsight-gold",
      "label": "Base de données Gold",
      "name": "jdbc_database",
      "options": {
       "widgetType": "text",
       "autoCreated": null,
       "validationRegex": null
      }
     }
    },
    "jdbc_hostname": {
     "currentValue": "sqlsvr-salesinsightcuxm0611.database.windows.net",
     "nuid": "32ec0379-3c64-4823-869c-fbe0f7adf87a",
     "typedWidgetInfo": {
      "autoCreated": false,
      "defaultValue": "sqlsvr-salesinsightcuxm0611.database.windows.net",
      "label": "Serveur Azure SQL DB",
      "name": "jdbc_hostname",
      "options": {
       "widgetDisplayType": "Text",
       "validationRegex": null
      },
      "parameterDataType": "String"
     },
     "widgetInfo": {
      "widgetType": "text",
      "defaultValue": "sqlsvr-salesinsightcuxm0611.database.windows.net",
      "label": "Serveur Azure SQL DB",
      "name": "jdbc_hostname",
      "options": {
       "widgetType": "text",
       "autoCreated": null,
       "validationRegex": null
      }
     }
    },
    "secret_scope": {
     "currentValue": "dbricks-scope-projet",
     "nuid": "ecef73ef-0739-4a3f-bf7f-b4814e154fe7",
     "typedWidgetInfo": {
      "autoCreated": false,
      "defaultValue": "dbricks-scope-projet",
      "label": "Scope unique pour les secrets du projet",
      "name": "secret_scope",
      "options": {
       "widgetDisplayType": "Text",
       "validationRegex": null
      },
      "parameterDataType": "String"
     },
     "widgetInfo": {
      "widgetType": "text",
      "defaultValue": "dbricks-scope-projet",
      "label": "Scope unique pour les secrets du projet",
      "name": "secret_scope",
      "options": {
       "widgetType": "text",
       "autoCreated": null,
       "validationRegex": null
      }
     }
    },
    "silver_folder": {
     "currentValue": "silver/sales_orders/",
     "nuid": "fb9412c8-c89c-48c6-9e75-e6f9decf51ab",
     "typedWidgetInfo": {
      "autoCreated": false,
      "defaultValue": "silver/sales_orders/",
      "label": "Dossier source dans la couche Silver",
      "name": "silver_folder",
      "options": {
       "widgetDisplayType": "Text",
       "validationRegex": null
      },
      "parameterDataType": "String"
     },
     "widgetInfo": {
      "widgetType": "text",
      "defaultValue": "silver/sales_orders/",
      "label": "Dossier source dans la couche Silver",
      "name": "silver_folder",
      "options": {
       "widgetType": "text",
       "autoCreated": null,
       "validationRegex": null
      }
     }
    },
    "sql_password_key": {
     "currentValue": "sql-admin-password",
     "nuid": "bc929015-33f4-4ff9-9106-f4b2a490d21e",
     "typedWidgetInfo": {
      "autoCreated": false,
      "defaultValue": "sql-admin-password",
      "label": "Clé du secret pour le mot de passe SQL",
      "name": "sql_password_key",
      "options": {
       "widgetDisplayType": "Text",
       "validationRegex": null
      },
      "parameterDataType": "String"
     },
     "widgetInfo": {
      "widgetType": "text",
      "defaultValue": "sql-admin-password",
      "label": "Clé du secret pour le mot de passe SQL",
      "name": "sql_password_key",
      "options": {
       "widgetType": "text",
       "autoCreated": null,
       "validationRegex": null
      }
     }
    },
    "sql_user_key": {
     "currentValue": "sql-admin-user",
     "nuid": "c775f961-2472-49d3-8b36-e08083ac9a8d",
     "typedWidgetInfo": {
      "autoCreated": false,
      "defaultValue": "sql-admin-user",
      "label": "Clé du secret pour l'utilisateur SQL",
      "name": "sql_user_key",
      "options": {
       "widgetDisplayType": "Text",
       "validationRegex": null
      },
      "parameterDataType": "String"
     },
     "widgetInfo": {
      "widgetType": "text",
      "defaultValue": "sql-admin-user",
      "label": "Clé du secret pour l'utilisateur SQL",
      "name": "sql_user_key",
      "options": {
       "widgetType": "text",
       "autoCreated": null,
       "validationRegex": null
      }
     }
    },
    "storage_account": {
     "currentValue": "stsalesinsightcuxm0611",
     "nuid": "e0c81cee-3801-477f-bf4b-fdad138604ae",
     "typedWidgetInfo": {
      "autoCreated": false,
      "defaultValue": "stsalesinsightcuxm0611",
      "label": "Nom du compte de stockage",
      "name": "storage_account",
      "options": {
       "widgetDisplayType": "Text",
       "validationRegex": null
      },
      "parameterDataType": "String"
     },
     "widgetInfo": {
      "widgetType": "text",
      "defaultValue": "stsalesinsightcuxm0611",
      "label": "Nom du compte de stockage",
      "name": "storage_account",
      "options": {
       "widgetType": "text",
       "autoCreated": null,
       "validationRegex": null
      }
     }
    }
   }
  },
  "language_info": {
   "name": "python"
  }
 },
 "nbformat": 4,
 "nbformat_minor": 0
}
